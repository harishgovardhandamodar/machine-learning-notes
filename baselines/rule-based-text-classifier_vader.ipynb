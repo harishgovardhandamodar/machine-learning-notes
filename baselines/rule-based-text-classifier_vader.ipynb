{
  "cells": [
    {
      "cell_type": "markdown",
      "id": "202c45d6-38c4-486e-8d88-9838d3da58d2",
      "metadata": {
        "tags": [],
        "id": "202c45d6-38c4-486e-8d88-9838d3da58d2"
      },
      "source": [
        "# VADER Rule-based Classifier Baseline for IMDB"
      ]
    },
    {
      "cell_type": "markdown",
      "id": "3185bab5-abee-4e98-af26-5864c94cb495",
      "metadata": {
        "id": "3185bab5-abee-4e98-af26-5864c94cb495"
      },
      "source": [
        "- The source code can be found here: https://www.nltk.org/_modules/nltk/sentiment/vader.html\n",
        "- The corresponding paper is\n",
        "\n",
        "> Hutto, C.J. & Gilbert, E.E. (2014). VADER: A Parsimonious Rule-based Model for\n",
        "Sentiment Analysis of Social Media Text. Eighth International Conference on\n",
        "Weblogs and Social Media (ICWSM-14). Ann Arbor, MI, June 2014."
      ]
    },
    {
      "cell_type": "markdown",
      "id": "62bb6402-160d-4fb8-bddc-8bfc58b1e40b",
      "metadata": {
        "id": "62bb6402-160d-4fb8-bddc-8bfc58b1e40b"
      },
      "source": [
        "## Download Dataset"
      ]
    },
    {
      "cell_type": "markdown",
      "id": "59003fc4-84ef-41e1-8f35-8701198d8ce8",
      "metadata": {
        "id": "59003fc4-84ef-41e1-8f35-8701198d8ce8"
      },
      "source": [
        "The following cells will download the IMDB movie review dataset (http://ai.stanford.edu/~amaas/data/sentiment/) for positive-negative sentiment classification in as CSV-formatted file:"
      ]
    },
    {
      "cell_type": "code",
      "source": [
        "!pip install watermark"
      ],
      "metadata": {
        "colab": {
          "base_uri": "https://localhost:8080/"
        },
        "id": "sbo3D5KW7SwS",
        "outputId": "bb1f2961-f418-4a70-e60a-30d56669d976"
      },
      "id": "sbo3D5KW7SwS",
      "execution_count": 1,
      "outputs": [
        {
          "output_type": "stream",
          "name": "stdout",
          "text": [
            "Looking in indexes: https://pypi.org/simple, https://us-python.pkg.dev/colab-wheels/public/simple/\n",
            "Collecting watermark\n",
            "  Downloading watermark-2.3.1-py2.py3-none-any.whl (7.2 kB)\n",
            "Requirement already satisfied: ipython in /usr/local/lib/python3.7/dist-packages (from watermark) (7.9.0)\n",
            "Requirement already satisfied: importlib-metadata>=1.4 in /usr/local/lib/python3.7/dist-packages (from watermark) (4.12.0)\n",
            "Requirement already satisfied: typing-extensions>=3.6.4 in /usr/local/lib/python3.7/dist-packages (from importlib-metadata>=1.4->watermark) (4.1.1)\n",
            "Requirement already satisfied: zipp>=0.5 in /usr/local/lib/python3.7/dist-packages (from importlib-metadata>=1.4->watermark) (3.8.1)\n",
            "Requirement already satisfied: traitlets>=4.2 in /usr/local/lib/python3.7/dist-packages (from ipython->watermark) (5.1.1)\n",
            "Collecting jedi>=0.10\n",
            "  Downloading jedi-0.18.1-py2.py3-none-any.whl (1.6 MB)\n",
            "\u001b[K     |████████████████████████████████| 1.6 MB 23.2 MB/s \n",
            "\u001b[?25hRequirement already satisfied: backcall in /usr/local/lib/python3.7/dist-packages (from ipython->watermark) (0.2.0)\n",
            "Requirement already satisfied: setuptools>=18.5 in /usr/local/lib/python3.7/dist-packages (from ipython->watermark) (57.4.0)\n",
            "Requirement already satisfied: pexpect in /usr/local/lib/python3.7/dist-packages (from ipython->watermark) (4.8.0)\n",
            "Requirement already satisfied: decorator in /usr/local/lib/python3.7/dist-packages (from ipython->watermark) (4.4.2)\n",
            "Requirement already satisfied: pickleshare in /usr/local/lib/python3.7/dist-packages (from ipython->watermark) (0.7.5)\n",
            "Requirement already satisfied: prompt-toolkit<2.1.0,>=2.0.0 in /usr/local/lib/python3.7/dist-packages (from ipython->watermark) (2.0.10)\n",
            "Requirement already satisfied: pygments in /usr/local/lib/python3.7/dist-packages (from ipython->watermark) (2.6.1)\n",
            "Requirement already satisfied: parso<0.9.0,>=0.8.0 in /usr/local/lib/python3.7/dist-packages (from jedi>=0.10->ipython->watermark) (0.8.3)\n",
            "Requirement already satisfied: wcwidth in /usr/local/lib/python3.7/dist-packages (from prompt-toolkit<2.1.0,>=2.0.0->ipython->watermark) (0.2.5)\n",
            "Requirement already satisfied: six>=1.9.0 in /usr/local/lib/python3.7/dist-packages (from prompt-toolkit<2.1.0,>=2.0.0->ipython->watermark) (1.15.0)\n",
            "Requirement already satisfied: ptyprocess>=0.5 in /usr/local/lib/python3.7/dist-packages (from pexpect->ipython->watermark) (0.7.0)\n",
            "Installing collected packages: jedi, watermark\n",
            "Successfully installed jedi-0.18.1 watermark-2.3.1\n"
          ]
        }
      ]
    },
    {
      "cell_type": "code",
      "execution_count": 2,
      "id": "8142921f-6931-41b4-b6f7-1e4f830577cb",
      "metadata": {
        "colab": {
          "base_uri": "https://localhost:8080/"
        },
        "id": "8142921f-6931-41b4-b6f7-1e4f830577cb",
        "outputId": "41715199-15d2-46bc-cf8c-0d6c75f4588d"
      },
      "outputs": [
        {
          "output_type": "stream",
          "name": "stdout",
          "text": [
            "--2022-09-13 08:19:52--  https://github.com/rasbt/python-machine-learning-book-3rd-edition/raw/master/ch08/movie_data.csv.gz\n",
            "Resolving github.com (github.com)... 140.82.112.3\n",
            "Connecting to github.com (github.com)|140.82.112.3|:443... connected.\n",
            "HTTP request sent, awaiting response... 302 Found\n",
            "Location: https://raw.githubusercontent.com/rasbt/python-machine-learning-book-3rd-edition/master/ch08/movie_data.csv.gz [following]\n",
            "--2022-09-13 08:19:52--  https://raw.githubusercontent.com/rasbt/python-machine-learning-book-3rd-edition/master/ch08/movie_data.csv.gz\n",
            "Resolving raw.githubusercontent.com (raw.githubusercontent.com)... 185.199.108.133, 185.199.109.133, 185.199.110.133, ...\n",
            "Connecting to raw.githubusercontent.com (raw.githubusercontent.com)|185.199.108.133|:443... connected.\n",
            "HTTP request sent, awaiting response... 200 OK\n",
            "Length: 26521894 (25M) [application/octet-stream]\n",
            "Saving to: ‘movie_data.csv.gz’\n",
            "\n",
            "movie_data.csv.gz   100%[===================>]  25.29M  --.-KB/s    in 0.1s    \n",
            "\n",
            "2022-09-13 08:19:52 (176 MB/s) - ‘movie_data.csv.gz’ saved [26521894/26521894]\n",
            "\n"
          ]
        }
      ],
      "source": [
        "!wget https://github.com/rasbt/python-machine-learning-book-3rd-edition/raw/master/ch08/movie_data.csv.gz"
      ]
    },
    {
      "cell_type": "code",
      "execution_count": 3,
      "id": "96583f4a-ce38-445b-b77d-ea7a4df72f8c",
      "metadata": {
        "id": "96583f4a-ce38-445b-b77d-ea7a4df72f8c"
      },
      "outputs": [],
      "source": [
        "!gunzip -f movie_data.csv.gz "
      ]
    },
    {
      "cell_type": "markdown",
      "id": "7f3e70f3-d9b8-4cd0-841c-4d579d67ad2e",
      "metadata": {
        "id": "7f3e70f3-d9b8-4cd0-841c-4d579d67ad2e"
      },
      "source": [
        "Check that the dataset looks okay:"
      ]
    },
    {
      "cell_type": "code",
      "execution_count": 4,
      "id": "2f5700dc-1d5c-4041-a229-6c4b68e64c8e",
      "metadata": {
        "colab": {
          "base_uri": "https://localhost:8080/",
          "height": 206
        },
        "id": "2f5700dc-1d5c-4041-a229-6c4b68e64c8e",
        "outputId": "2e861929-56cb-4faa-e3ae-652bf528f537"
      },
      "outputs": [
        {
          "output_type": "execute_result",
          "data": {
            "text/plain": [
              "                                              review  sentiment\n",
              "0  In 1974, the teenager Martha Moxley (Maggie Gr...          1\n",
              "1  OK... so... I really like Kris Kristofferson a...          0\n",
              "2  ***SPOILER*** Do not read this, if you think a...          0\n",
              "3  hi for all the people who have seen this wonde...          1\n",
              "4  I recently bought the DVD, forgetting just how...          0"
            ],
            "text/html": [
              "\n",
              "  <div id=\"df-2983b325-daca-4c10-9230-5899850331b3\">\n",
              "    <div class=\"colab-df-container\">\n",
              "      <div>\n",
              "<style scoped>\n",
              "    .dataframe tbody tr th:only-of-type {\n",
              "        vertical-align: middle;\n",
              "    }\n",
              "\n",
              "    .dataframe tbody tr th {\n",
              "        vertical-align: top;\n",
              "    }\n",
              "\n",
              "    .dataframe thead th {\n",
              "        text-align: right;\n",
              "    }\n",
              "</style>\n",
              "<table border=\"1\" class=\"dataframe\">\n",
              "  <thead>\n",
              "    <tr style=\"text-align: right;\">\n",
              "      <th></th>\n",
              "      <th>review</th>\n",
              "      <th>sentiment</th>\n",
              "    </tr>\n",
              "  </thead>\n",
              "  <tbody>\n",
              "    <tr>\n",
              "      <th>0</th>\n",
              "      <td>In 1974, the teenager Martha Moxley (Maggie Gr...</td>\n",
              "      <td>1</td>\n",
              "    </tr>\n",
              "    <tr>\n",
              "      <th>1</th>\n",
              "      <td>OK... so... I really like Kris Kristofferson a...</td>\n",
              "      <td>0</td>\n",
              "    </tr>\n",
              "    <tr>\n",
              "      <th>2</th>\n",
              "      <td>***SPOILER*** Do not read this, if you think a...</td>\n",
              "      <td>0</td>\n",
              "    </tr>\n",
              "    <tr>\n",
              "      <th>3</th>\n",
              "      <td>hi for all the people who have seen this wonde...</td>\n",
              "      <td>1</td>\n",
              "    </tr>\n",
              "    <tr>\n",
              "      <th>4</th>\n",
              "      <td>I recently bought the DVD, forgetting just how...</td>\n",
              "      <td>0</td>\n",
              "    </tr>\n",
              "  </tbody>\n",
              "</table>\n",
              "</div>\n",
              "      <button class=\"colab-df-convert\" onclick=\"convertToInteractive('df-2983b325-daca-4c10-9230-5899850331b3')\"\n",
              "              title=\"Convert this dataframe to an interactive table.\"\n",
              "              style=\"display:none;\">\n",
              "        \n",
              "  <svg xmlns=\"http://www.w3.org/2000/svg\" height=\"24px\"viewBox=\"0 0 24 24\"\n",
              "       width=\"24px\">\n",
              "    <path d=\"M0 0h24v24H0V0z\" fill=\"none\"/>\n",
              "    <path d=\"M18.56 5.44l.94 2.06.94-2.06 2.06-.94-2.06-.94-.94-2.06-.94 2.06-2.06.94zm-11 1L8.5 8.5l.94-2.06 2.06-.94-2.06-.94L8.5 2.5l-.94 2.06-2.06.94zm10 10l.94 2.06.94-2.06 2.06-.94-2.06-.94-.94-2.06-.94 2.06-2.06.94z\"/><path d=\"M17.41 7.96l-1.37-1.37c-.4-.4-.92-.59-1.43-.59-.52 0-1.04.2-1.43.59L10.3 9.45l-7.72 7.72c-.78.78-.78 2.05 0 2.83L4 21.41c.39.39.9.59 1.41.59.51 0 1.02-.2 1.41-.59l7.78-7.78 2.81-2.81c.8-.78.8-2.07 0-2.86zM5.41 20L4 18.59l7.72-7.72 1.47 1.35L5.41 20z\"/>\n",
              "  </svg>\n",
              "      </button>\n",
              "      \n",
              "  <style>\n",
              "    .colab-df-container {\n",
              "      display:flex;\n",
              "      flex-wrap:wrap;\n",
              "      gap: 12px;\n",
              "    }\n",
              "\n",
              "    .colab-df-convert {\n",
              "      background-color: #E8F0FE;\n",
              "      border: none;\n",
              "      border-radius: 50%;\n",
              "      cursor: pointer;\n",
              "      display: none;\n",
              "      fill: #1967D2;\n",
              "      height: 32px;\n",
              "      padding: 0 0 0 0;\n",
              "      width: 32px;\n",
              "    }\n",
              "\n",
              "    .colab-df-convert:hover {\n",
              "      background-color: #E2EBFA;\n",
              "      box-shadow: 0px 1px 2px rgba(60, 64, 67, 0.3), 0px 1px 3px 1px rgba(60, 64, 67, 0.15);\n",
              "      fill: #174EA6;\n",
              "    }\n",
              "\n",
              "    [theme=dark] .colab-df-convert {\n",
              "      background-color: #3B4455;\n",
              "      fill: #D2E3FC;\n",
              "    }\n",
              "\n",
              "    [theme=dark] .colab-df-convert:hover {\n",
              "      background-color: #434B5C;\n",
              "      box-shadow: 0px 1px 3px 1px rgba(0, 0, 0, 0.15);\n",
              "      filter: drop-shadow(0px 1px 2px rgba(0, 0, 0, 0.3));\n",
              "      fill: #FFFFFF;\n",
              "    }\n",
              "  </style>\n",
              "\n",
              "      <script>\n",
              "        const buttonEl =\n",
              "          document.querySelector('#df-2983b325-daca-4c10-9230-5899850331b3 button.colab-df-convert');\n",
              "        buttonEl.style.display =\n",
              "          google.colab.kernel.accessAllowed ? 'block' : 'none';\n",
              "\n",
              "        async function convertToInteractive(key) {\n",
              "          const element = document.querySelector('#df-2983b325-daca-4c10-9230-5899850331b3');\n",
              "          const dataTable =\n",
              "            await google.colab.kernel.invokeFunction('convertToInteractive',\n",
              "                                                     [key], {});\n",
              "          if (!dataTable) return;\n",
              "\n",
              "          const docLinkHtml = 'Like what you see? Visit the ' +\n",
              "            '<a target=\"_blank\" href=https://colab.research.google.com/notebooks/data_table.ipynb>data table notebook</a>'\n",
              "            + ' to learn more about interactive tables.';\n",
              "          element.innerHTML = '';\n",
              "          dataTable['output_type'] = 'display_data';\n",
              "          await google.colab.output.renderOutput(dataTable, element);\n",
              "          const docLink = document.createElement('div');\n",
              "          docLink.innerHTML = docLinkHtml;\n",
              "          element.appendChild(docLink);\n",
              "        }\n",
              "      </script>\n",
              "    </div>\n",
              "  </div>\n",
              "  "
            ]
          },
          "metadata": {},
          "execution_count": 4
        }
      ],
      "source": [
        "import pandas as pd\n",
        "\n",
        "\n",
        "df = pd.read_csv('movie_data.csv')\n",
        "df.head()"
      ]
    },
    {
      "cell_type": "code",
      "execution_count": 5,
      "id": "ac8a63a0-1093-4328-a454-f01021aca3cc",
      "metadata": {
        "id": "ac8a63a0-1093-4328-a454-f01021aca3cc"
      },
      "outputs": [],
      "source": [
        "import numpy as np\n",
        "\n",
        "\n",
        "np.random.seed(123)\n",
        "msk = np.random.rand(len(df)) < 0.85\n",
        "df_train = df[msk]\n",
        "df_test = df[~msk]"
      ]
    },
    {
      "cell_type": "markdown",
      "id": "dcd84812-738e-4b44-9187-2accab43c622",
      "metadata": {
        "id": "dcd84812-738e-4b44-9187-2accab43c622"
      },
      "source": [
        "Baseline always predicting the majority class:"
      ]
    },
    {
      "cell_type": "code",
      "execution_count": 6,
      "id": "7334e264-c229-43ca-9747-f3927aafd079",
      "metadata": {
        "colab": {
          "base_uri": "https://localhost:8080/"
        },
        "id": "7334e264-c229-43ca-9747-f3927aafd079",
        "outputId": "a7fcf58d-8aa2-41b7-e846-507689d8068a"
      },
      "outputs": [
        {
          "output_type": "stream",
          "name": "stdout",
          "text": [
            "Test accuracy: 50.21%\n"
          ]
        }
      ],
      "source": [
        "acc = df_train['sentiment'].mean()\n",
        "print(f\"Test accuracy: {acc*100:.2f}%\")"
      ]
    },
    {
      "cell_type": "markdown",
      "id": "8ac4c7aa-d1af-4922-84b1-4a79a14f095f",
      "metadata": {
        "id": "8ac4c7aa-d1af-4922-84b1-4a79a14f095f"
      },
      "source": [
        "## Using Vader"
      ]
    },
    {
      "cell_type": "markdown",
      "id": "9e3a86ea-62eb-4547-8330-f0e8c5a142d2",
      "metadata": {
        "id": "9e3a86ea-62eb-4547-8330-f0e8c5a142d2"
      },
      "source": [
        "- Note that Vader is rule-based and doesn't require a training set"
      ]
    },
    {
      "cell_type": "code",
      "execution_count": 7,
      "id": "4dd9aa7e-000d-45e0-8aa7-dc84f6286d81",
      "metadata": {
        "colab": {
          "base_uri": "https://localhost:8080/"
        },
        "id": "4dd9aa7e-000d-45e0-8aa7-dc84f6286d81",
        "outputId": "e947319a-bb37-42cf-88d6-ecfe2b838757"
      },
      "outputs": [
        {
          "output_type": "stream",
          "name": "stderr",
          "text": [
            "[nltk_data] Downloading package vader_lexicon to /root/nltk_data...\n",
            "[nltk_data]   Package vader_lexicon is already up-to-date!\n",
            "[nltk_data] Downloading package punkt to /root/nltk_data...\n",
            "[nltk_data]   Package punkt is already up-to-date!\n"
          ]
        },
        {
          "output_type": "execute_result",
          "data": {
            "text/plain": [
              "True"
            ]
          },
          "metadata": {},
          "execution_count": 7
        }
      ],
      "source": [
        "import nltk\n",
        "\n",
        "nltk.download('vader_lexicon')\n",
        "nltk.download('punkt')"
      ]
    },
    {
      "cell_type": "markdown",
      "id": "38648713-c97d-4591-91b6-1da675881cd4",
      "metadata": {
        "id": "38648713-c97d-4591-91b6-1da675881cd4"
      },
      "source": [
        "### Based on paragraphs"
      ]
    },
    {
      "cell_type": "code",
      "execution_count": 8,
      "id": "c259d0e9-7bcb-431c-93cc-d7bc6da17de2",
      "metadata": {
        "id": "c259d0e9-7bcb-431c-93cc-d7bc6da17de2"
      },
      "outputs": [],
      "source": [
        "from nltk.sentiment.vader import SentimentIntensityAnalyzer\n",
        "\n",
        "\n",
        "y_pred = []\n",
        "sid = SentimentIntensityAnalyzer()\n",
        "for row in df_test.iterrows():\n",
        "    \n",
        "    sscore = sid.polarity_scores(row[1]['review'])\n",
        "    if sscore['neg'] >= sscore['pos']:\n",
        "        y_pred.append(0)\n",
        "    else:\n",
        "        y_pred.append(1)"
      ]
    },
    {
      "cell_type": "code",
      "execution_count": 9,
      "id": "fb1fc954-9098-47e0-9ebb-968273c6315b",
      "metadata": {
        "colab": {
          "base_uri": "https://localhost:8080/"
        },
        "id": "fb1fc954-9098-47e0-9ebb-968273c6315b",
        "outputId": "5016f1b5-958a-44a0-edc0-2b7300ec6a17"
      },
      "outputs": [
        {
          "output_type": "stream",
          "name": "stdout",
          "text": [
            "Test accuracy: 69.07%\n"
          ]
        }
      ],
      "source": [
        "acc = (df_test['sentiment'] == y_pred).mean()\n",
        "print(f\"Test accuracy: {acc*100:.2f}%\")"
      ]
    },
    {
      "cell_type": "markdown",
      "id": "eb50d78f-15a2-4657-aaa6-c1aa4904bc05",
      "metadata": {
        "id": "eb50d78f-15a2-4657-aaa6-c1aa4904bc05"
      },
      "source": [
        "### Based on majority label among individual sentences in each paragraph"
      ]
    },
    {
      "cell_type": "code",
      "execution_count": 10,
      "id": "9190fbe2-dec3-45f7-a8cf-a885967558dc",
      "metadata": {
        "id": "9190fbe2-dec3-45f7-a8cf-a885967558dc"
      },
      "outputs": [],
      "source": [
        "from nltk import tokenize\n",
        "\n",
        "\n",
        "y_pred = []\n",
        "sid = SentimentIntensityAnalyzer()\n",
        "\n",
        "for row in df_test.iterrows():\n",
        "    \n",
        "    sentences = tokenize.sent_tokenize(row[1]['review'])    \n",
        "    sentence_scores = []\n",
        "    \n",
        "    for sentence in sentences:\n",
        "        sscore = sid.polarity_scores(sentence)\n",
        "        if sscore['neg'] >= sscore['pos']:\n",
        "            sentence_scores.append(0)\n",
        "        else:\n",
        "            sentence_scores.append(1)        \n",
        "    mode = np.argmax(np.bincount(sentence_scores))\n",
        "    y_pred.append(mode)"
      ]
    },
    {
      "cell_type": "code",
      "execution_count": 11,
      "id": "b460dbfb-2dc8-447f-8bdc-d4d049ab35cb",
      "metadata": {
        "colab": {
          "base_uri": "https://localhost:8080/"
        },
        "id": "b460dbfb-2dc8-447f-8bdc-d4d049ab35cb",
        "outputId": "a791cd44-8ec7-46d4-b05a-31397a99954e"
      },
      "outputs": [
        {
          "output_type": "stream",
          "name": "stdout",
          "text": [
            "Test accuracy: 70.52%\n"
          ]
        }
      ],
      "source": [
        "acc = (df_test['sentiment'] == y_pred).mean()\n",
        "print(f\"Test accuracy: {acc*100:.2f}%\")"
      ]
    },
    {
      "cell_type": "code",
      "execution_count": 12,
      "id": "1ec921a1-df00-4fe0-83a0-d2ffa25cc270",
      "metadata": {
        "colab": {
          "base_uri": "https://localhost:8080/"
        },
        "id": "1ec921a1-df00-4fe0-83a0-d2ffa25cc270",
        "outputId": "8ab0b7f5-648b-4e21-90b4-1f4a2903b7a5"
      },
      "outputs": [
        {
          "output_type": "stream",
          "name": "stdout",
          "text": [
            "nltk  : 3.7\n",
            "pandas: 1.3.5\n",
            "numpy : 1.21.6\n",
            "\n"
          ]
        }
      ],
      "source": [
        "%load_ext watermark\n",
        "%watermark --iversions"
      ]
    }
  ],
  "metadata": {
    "kernelspec": {
      "display_name": "Python 3 (ipykernel)",
      "language": "python",
      "name": "python3"
    },
    "language_info": {
      "codemirror_mode": {
        "name": "ipython",
        "version": 3
      },
      "file_extension": ".py",
      "mimetype": "text/x-python",
      "name": "python",
      "nbconvert_exporter": "python",
      "pygments_lexer": "ipython3",
      "version": "3.9.7"
    },
    "colab": {
      "provenance": []
    }
  },
  "nbformat": 4,
  "nbformat_minor": 5
}